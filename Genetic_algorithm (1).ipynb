{
  "nbformat": 4,
  "nbformat_minor": 0,
  "metadata": {
    "colab": {
      "name": "Genetic_algorithm.ipynb",
      "provenance": [],
      "collapsed_sections": []
    },
    "kernelspec": {
      "name": "python3",
      "display_name": "Python 3"
    }
  },
  "cells": [
    {
      "cell_type": "code",
      "metadata": {
        "id": "uFQhZk7amPyK"
      },
      "source": [
        "import random\r\n",
        "import numpy as np\r\n",
        "import seaborn as sns\r\n",
        "import matplotlib.pyplot as plt\r\n",
        "import math"
      ],
      "execution_count": 2,
      "outputs": []
    },
    {
      "cell_type": "code",
      "metadata": {
        "id": "bC5qz3prCUDD"
      },
      "source": [
        "def fitness_function(individual):\r\n",
        "  return(abs(96 - individual[0]) + abs(96 - individual[1]) + abs(159 - individual[2]))"
      ],
      "execution_count": 3,
      "outputs": []
    },
    {
      "cell_type": "code",
      "metadata": {
        "id": "nxdUoArZJXs_"
      },
      "source": [
        "class Individual:\r\n",
        "  chromosome = ''\r\n",
        "  def __init__(self, min_diap, max_diap, count_gene):\r\n",
        "    self.chromosome = []\r\n",
        "\r\n",
        "    for i in range(0, count_gene):\r\n",
        "      gene = random.randint(min_diap, max_diap)\r\n",
        "      buff = '00000000'\r\n",
        "\r\n",
        "      for j in range(0, len(buff)):\r\n",
        "        buff = buff[:len(buff) - 1 - j] + str(gene % 2) + buff[len(buff) - 1 - j + 1:]\r\n",
        "        gene = gene // 2\r\n",
        "      self.chromosome.append(buff)\r\n",
        "    \r\n",
        "    self.chromosome = ''.join(self.chromosome)\r\n",
        "  \r\n",
        "  def convert_chromosome(self, size_gene):\r\n",
        "    k = 0\r\n",
        "    gene_list = []\r\n",
        "    while k < len(self.chromosome):\r\n",
        "      gene_list.append(int(self.chromosome[0 + k:size_gene + k], 2))\r\n",
        "      k = k + size_gene\r\n",
        "    return(gene_list)"
      ],
      "execution_count": 4,
      "outputs": []
    },
    {
      "cell_type": "code",
      "metadata": {
        "id": "wnGZBb_NaQn1"
      },
      "source": [
        "class GeneticAlgorithm:\r\n",
        "  population = []\r\n",
        "  size_population = 0\r\n",
        "  size_gene = 0\r\n",
        "  count_gene = 0\r\n",
        "  best_individual = []\r\n",
        "  best_score = math.inf\r\n",
        "  print_best_score = []\r\n",
        "\r\n",
        "  def __init__(self):\r\n",
        "    self.population = []\r\n",
        "\r\n",
        "  def create_population(self, size, min_diap, max_diap, count_gene, size_gene):\r\n",
        "    self.print_best_score = []\r\n",
        "    self.population = []\r\n",
        "    self.size_gene = size_gene\r\n",
        "    self.count_gene = count_gene\r\n",
        "    self.size_population = size\r\n",
        "    for i in range(0, self.size_population):\r\n",
        "      self.population.append(Individual(min_diap, max_diap, count_gene))\r\n",
        "  \r\n",
        "  def start(self, generation = 100):\r\n",
        "    best_score = math.inf\r\n",
        "    best_chromosome = []\r\n",
        "    for i in self.population:\r\n",
        "      if fitness_function(i.convert_chromosome(8)) < best_score:\r\n",
        "        best_score = fitness_function(i.convert_chromosome(8))\r\n",
        "        best_chromosome = i\r\n",
        "    \r\n",
        "    self.print_best_score.append(best_score)\r\n",
        "    #print(best_chromosome.convert_chromosome(8), best_chromosome.chromosome, fitness_function(best_chromosome.convert_chromosome(8)))\r\n",
        "    \r\n",
        "    for i in range(0, generation):\r\n",
        "      self.selection()\r\n",
        "      self.crossbreeding()\r\n",
        "      self.mutation(1 / (self.size_gene * self.count_gene))\r\n",
        "\r\n",
        "      best_score = math.inf\r\n",
        "      best_chromosome = []\r\n",
        "      for i in self.population:\r\n",
        "        if fitness_function(i.convert_chromosome(8)) < best_score:\r\n",
        "          best_score = fitness_function(i.convert_chromosome(8))\r\n",
        "          best_chromosome = i\r\n",
        "      \r\n",
        "      self.print_best_score.append(best_score)\r\n",
        "      #print(best_chromosome.convert_chromosome(8), best_chromosome.chromosome, fitness_function(best_chromosome.convert_chromosome(8)))\r\n",
        "\r\n",
        "\r\n",
        "\r\n",
        "  def selection(self, l = 0.5):\r\n",
        "    score_fitness_function = []\r\n",
        "    for i in self.population:\r\n",
        "      score_fitness_function.append(fitness_function(i.convert_chromosome(self.size_gene)))\r\n",
        "      \r\n",
        "    mask = []\r\n",
        "    for j, i in zip(self.population, score_fitness_function):\r\n",
        "      if i < np.quantile(score_fitness_function, 1 - l):\r\n",
        "        mask.append(j)\r\n",
        "\r\n",
        "    self.population = mask\r\n",
        "\r\n",
        "  def crossbreeding(self, Pc = 0.8):\r\n",
        "    k = 0\r\n",
        "    new_population = []\r\n",
        "\r\n",
        "    while k < self.size_population:\r\n",
        "      i = random.randint(0, len(self.population) - 1)\r\n",
        "      j = random.randint(0, len(self.population) - 1)\r\n",
        "      if Pc > random.uniform(0, 1):\r\n",
        "        w = random.randint(1, len(self.population[i].chromosome) - 1)\r\n",
        "        child_1 = Individual(1, 1, 1)\r\n",
        "        child_2 = Individual(1, 1, 1)\r\n",
        "        child_1.chromosome = self.population[i].chromosome[:w] + self.population[j].chromosome[w:]\r\n",
        "        child_2.chromosome = self.population[j].chromosome[:w] + self.population[i].chromosome[w:]\r\n",
        "        new_population.append(child_1)\r\n",
        "        new_population.append(child_2)\r\n",
        "      else:\r\n",
        "        new_population.append(self.population[i])\r\n",
        "        new_population.append(self.population[j])\r\n",
        "      k = k + 2\r\n",
        "        \r\n",
        "    self.population = new_population\r\n",
        "\r\n",
        "  def mutation(self, probability):\r\n",
        "    for i in self.population:\r\n",
        "      for j in range(0, len(i.chromosome)):\r\n",
        "        if probability > random.uniform(0, 1):\r\n",
        "          if i.chromosome[j] == '0':\r\n",
        "            i.chromosome = i.chromosome[:j] + '1' + i.chromosome[j + 1:]\r\n",
        "          else:\r\n",
        "            i.chromosome = i.chromosome[:j] + '0' + i.chromosome[j + 1:]"
      ],
      "execution_count": 113,
      "outputs": []
    },
    {
      "cell_type": "code",
      "metadata": {
        "id": "Ak1hqufnlUlP",
        "colab": {
          "base_uri": "https://localhost:8080/"
        },
        "outputId": "61e53109-0058-49a3-b3f6-84e42d2d7d1f"
      },
      "source": [
        "x = GeneticAlgorithm()\r\n",
        "x.create_population(200, 0, 255, 3, 8)\r\n",
        "len(x.population)"
      ],
      "execution_count": 114,
      "outputs": [
        {
          "output_type": "execute_result",
          "data": {
            "text/plain": [
              "200"
            ]
          },
          "metadata": {
            "tags": []
          },
          "execution_count": 114
        }
      ]
    },
    {
      "cell_type": "code",
      "metadata": {
        "colab": {
          "base_uri": "https://localhost:8080/"
        },
        "id": "FSU4urR92d5t",
        "outputId": "eca303bb-4986-44ea-f05a-f6b0db3b505e"
      },
      "source": [
        "best_score = math.inf\r\n",
        "best_chromosome = []\r\n",
        "\r\n",
        "for i in x.population:\r\n",
        "  if fitness_function(i.convert_chromosome(8)) < best_score:\r\n",
        "    best_score = fitness_function(i.convert_chromosome(8))\r\n",
        "    best_chromosome = i\r\n",
        "\r\n",
        "print(best_chromosome.convert_chromosome(8), best_chromosome.chromosome, fitness_function(best_chromosome.convert_chromosome(8)))"
      ],
      "execution_count": 115,
      "outputs": [
        {
          "output_type": "stream",
          "text": [
            "[94, 107, 197] 010111100110101111000101 51\n"
          ],
          "name": "stdout"
        }
      ]
    },
    {
      "cell_type": "code",
      "metadata": {
        "colab": {
          "base_uri": "https://localhost:8080/"
        },
        "id": "x3SWdVH6yd5N",
        "outputId": "eb084a58-97ff-44d7-d973-84a91ed2e372"
      },
      "source": [
        "%%time\r\n",
        "x.start(60)"
      ],
      "execution_count": 116,
      "outputs": [
        {
          "output_type": "stream",
          "text": [
            "CPU times: user 1.88 s, sys: 837 µs, total: 1.88 s\n",
            "Wall time: 1.89 s\n"
          ],
          "name": "stdout"
        }
      ]
    },
    {
      "cell_type": "code",
      "metadata": {
        "colab": {
          "base_uri": "https://localhost:8080/"
        },
        "id": "idjKDNefyuPk",
        "outputId": "a05fc87c-72b8-4e29-d6be-44be8a2b8723"
      },
      "source": [
        "best_score = math.inf\r\n",
        "best_chromosome = []\r\n",
        "\r\n",
        "for i in x.population:\r\n",
        "  if fitness_function(i.convert_chromosome(8)) < best_score:\r\n",
        "    best_score = fitness_function(i.convert_chromosome(8))\r\n",
        "    best_chromosome = i\r\n",
        "\r\n",
        "print(best_chromosome.convert_chromosome(8), best_chromosome.chromosome, fitness_function(best_chromosome.convert_chromosome(8)))"
      ],
      "execution_count": 117,
      "outputs": [
        {
          "output_type": "stream",
          "text": [
            "[96, 95, 160] 011000000101111110100000 2\n"
          ],
          "name": "stdout"
        }
      ]
    },
    {
      "cell_type": "code",
      "metadata": {
        "colab": {
          "base_uri": "https://localhost:8080/",
          "height": 330
        },
        "id": "bcJqL2g6yuUx",
        "outputId": "bc75669e-5987-4298-b47d-fd7daa102b61"
      },
      "source": [
        "sns.set(font_scale = 1.5)\r\n",
        "f, ax = plt.subplots(figsize=(15, 5))\r\n",
        "sns.lineplot(x = range(0, 61), y = x.print_best_score);"
      ],
      "execution_count": 118,
      "outputs": [
        {
          "output_type": "display_data",
          "data": {
            "image/png": "[encoded data removed]",
            "text/plain": [
              "<Figure size 1080x360 with 1 Axes>"
            ]
          },
          "metadata": {
            "tags": []
          }
        }
      ]
    },
    {
      "cell_type": "code",
      "metadata": {
        "id": "WmztyyhTyuXu"
      },
      "source": [
        ""
      ],
      "execution_count": 102,
      "outputs": []
    }
  ]
}